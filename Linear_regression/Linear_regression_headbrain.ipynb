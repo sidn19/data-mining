{
 "cells": [
  {
   "cell_type": "code",
   "execution_count": 14,
   "metadata": {},
   "outputs": [],
   "source": [
    "import matplotlib.pyplot as plt\n",
    "import numpy as np\n",
    "from sklearn.linear_model import LinearRegression\n",
    "from sklearn.metrics import mean_squared_error, r2_score\n",
    "import pandas as pd\n",
    "import matplotlib.pyplot as plt"
   ]
  },
  {
   "cell_type": "code",
   "execution_count": 15,
   "metadata": {},
   "outputs": [
    {
     "data": {
      "text/html": [
       "<div>\n",
       "<style scoped>\n",
       "    .dataframe tbody tr th:only-of-type {\n",
       "        vertical-align: middle;\n",
       "    }\n",
       "\n",
       "    .dataframe tbody tr th {\n",
       "        vertical-align: top;\n",
       "    }\n",
       "\n",
       "    .dataframe thead th {\n",
       "        text-align: right;\n",
       "    }\n",
       "</style>\n",
       "<table border=\"1\" class=\"dataframe\">\n",
       "  <thead>\n",
       "    <tr style=\"text-align: right;\">\n",
       "      <th></th>\n",
       "      <th>Gender</th>\n",
       "      <th>Age Range</th>\n",
       "      <th>Head Size(cm^3)</th>\n",
       "      <th>Brain Weight(grams)</th>\n",
       "    </tr>\n",
       "  </thead>\n",
       "  <tbody>\n",
       "    <tr>\n",
       "      <th>0</th>\n",
       "      <td>1</td>\n",
       "      <td>1</td>\n",
       "      <td>4512</td>\n",
       "      <td>1530</td>\n",
       "    </tr>\n",
       "    <tr>\n",
       "      <th>1</th>\n",
       "      <td>1</td>\n",
       "      <td>1</td>\n",
       "      <td>3738</td>\n",
       "      <td>1297</td>\n",
       "    </tr>\n",
       "    <tr>\n",
       "      <th>2</th>\n",
       "      <td>1</td>\n",
       "      <td>1</td>\n",
       "      <td>4261</td>\n",
       "      <td>1335</td>\n",
       "    </tr>\n",
       "    <tr>\n",
       "      <th>3</th>\n",
       "      <td>1</td>\n",
       "      <td>1</td>\n",
       "      <td>3777</td>\n",
       "      <td>1282</td>\n",
       "    </tr>\n",
       "    <tr>\n",
       "      <th>4</th>\n",
       "      <td>1</td>\n",
       "      <td>1</td>\n",
       "      <td>4177</td>\n",
       "      <td>1590</td>\n",
       "    </tr>\n",
       "    <tr>\n",
       "      <th>...</th>\n",
       "      <td>...</td>\n",
       "      <td>...</td>\n",
       "      <td>...</td>\n",
       "      <td>...</td>\n",
       "    </tr>\n",
       "    <tr>\n",
       "      <th>232</th>\n",
       "      <td>2</td>\n",
       "      <td>2</td>\n",
       "      <td>3214</td>\n",
       "      <td>1110</td>\n",
       "    </tr>\n",
       "    <tr>\n",
       "      <th>233</th>\n",
       "      <td>2</td>\n",
       "      <td>2</td>\n",
       "      <td>3394</td>\n",
       "      <td>1215</td>\n",
       "    </tr>\n",
       "    <tr>\n",
       "      <th>234</th>\n",
       "      <td>2</td>\n",
       "      <td>2</td>\n",
       "      <td>3233</td>\n",
       "      <td>1104</td>\n",
       "    </tr>\n",
       "    <tr>\n",
       "      <th>235</th>\n",
       "      <td>2</td>\n",
       "      <td>2</td>\n",
       "      <td>3352</td>\n",
       "      <td>1170</td>\n",
       "    </tr>\n",
       "    <tr>\n",
       "      <th>236</th>\n",
       "      <td>2</td>\n",
       "      <td>2</td>\n",
       "      <td>3391</td>\n",
       "      <td>1120</td>\n",
       "    </tr>\n",
       "  </tbody>\n",
       "</table>\n",
       "<p>237 rows × 4 columns</p>\n",
       "</div>"
      ],
      "text/plain": [
       "     Gender  Age Range  Head Size(cm^3)  Brain Weight(grams)\n",
       "0         1          1             4512                 1530\n",
       "1         1          1             3738                 1297\n",
       "2         1          1             4261                 1335\n",
       "3         1          1             3777                 1282\n",
       "4         1          1             4177                 1590\n",
       "..      ...        ...              ...                  ...\n",
       "232       2          2             3214                 1110\n",
       "233       2          2             3394                 1215\n",
       "234       2          2             3233                 1104\n",
       "235       2          2             3352                 1170\n",
       "236       2          2             3391                 1120\n",
       "\n",
       "[237 rows x 4 columns]"
      ]
     },
     "execution_count": 15,
     "metadata": {},
     "output_type": "execute_result"
    }
   ],
   "source": [
    "dataset = pd.read_csv('headbrain.csv')\n",
    "dataset"
   ]
  },
  {
   "cell_type": "code",
   "execution_count": 16,
   "metadata": {},
   "outputs": [],
   "source": [
    "X = dataset['Head Size(cm^3)'].values\n",
    "y = dataset['Brain Weight(grams)'].values"
   ]
  },
  {
   "cell_type": "code",
   "execution_count": 17,
   "metadata": {},
   "outputs": [
    {
     "data": {
      "text/plain": [
       "Text(0, 0.5, 'Brain Weight(grams)')"
      ]
     },
     "execution_count": 17,
     "metadata": {},
     "output_type": "execute_result"
    },
    {
     "data": {
      "image/png": "[encoded data removed]",
      "text/plain": [
       "<Figure size 432x288 with 1 Axes>"
      ]
     },
     "metadata": {
      "needs_background": "light"
     },
     "output_type": "display_data"
    }
   ],
   "source": [
    "plt.scatter(X,y)\n",
    "plt.xlabel('Head Size (cm^3)')\n",
    "plt.ylabel('Brain Weight(grams)')"
   ]
  },
  {
   "cell_type": "code",
   "execution_count": 18,
   "metadata": {},
   "outputs": [
    {
     "data": {
      "text/plain": [
       "LinearRegression()"
      ]
     },
     "execution_count": 18,
     "metadata": {},
     "output_type": "execute_result"
    }
   ],
   "source": [
    "n = len(X)\n",
    "X  = X.reshape((n,1))\n",
    "\n",
    "lg = LinearRegression()\n",
    "lg.fit(X,y)"
   ]
  },
  {
   "cell_type": "code",
   "execution_count": 19,
   "metadata": {},
   "outputs": [
    {
     "data": {
      "text/plain": [
       "(237, 1)"
      ]
     },
     "execution_count": 19,
     "metadata": {},
     "output_type": "execute_result"
    }
   ],
   "source": [
    "X.shape"
   ]
  },
  {
   "cell_type": "code",
   "execution_count": 20,
   "metadata": {},
   "outputs": [
    {
     "data": {
      "text/plain": [
       "(237,)"
      ]
     },
     "execution_count": 20,
     "metadata": {},
     "output_type": "execute_result"
    }
   ],
   "source": [
    "y.shape"
   ]
  },
  {
   "cell_type": "code",
   "execution_count": 21,
   "metadata": {},
   "outputs": [
    {
     "data": {
      "text/plain": [
       "array([1514.16660083, 1310.27229206, 1448.04583661, 1320.5460363 ,\n",
       "       1425.9177721 , 1269.96760312, 1322.65347102, 1263.11844029,\n",
       "       1277.34362462, 1374.5490509 , 1232.56063691, 1377.44677363,\n",
       "       1284.45621679, 1434.08408162, 1335.03464997, 1346.62554091,\n",
       "       1246.78582124, 1238.61951172, 1140.88722677, 1490.98481895,\n",
       "       1347.15239959, 1391.40852862, 1327.65862847, 1302.89627056,\n",
       "       1576.07249561, 1490.72138961, 1388.77423523, 1385.08622448,\n",
       "       1235.45835965, 1425.39091342, 1323.1803297 , 1325.55119375,\n",
       "       1406.42400097, 1421.70290266, 1420.91261465, 1330.29292186,\n",
       "       1254.68870143, 1312.90658546, 1203.84683891, 1245.46867455,\n",
       "       1369.28046411, 1248.89325596, 1462.27102095, 1327.65862847,\n",
       "       1343.2009595 , 1388.24737655, 1460.42701557, 1159.32728053,\n",
       "       1284.71964613, 1285.50993415, 1350.576981  , 1324.76090573,\n",
       "       1450.41670067, 1395.88682739, 1382.45193108, 1236.512077  ,\n",
       "       1350.31355166, 1423.02004936, 1362.16787194, 1292.09566764,\n",
       "       1343.99124752, 1219.38916994, 1495.72654706, 1445.9384019 ,\n",
       "       1307.37456933, 1202.52969221, 1225.18461541, 1213.85715381,\n",
       "       1492.56539499, 1479.65735735, 1381.39821372, 1341.8838128 ,\n",
       "       1411.16572909, 1394.30625136, 1332.92721526, 1219.65259928,\n",
       "       1262.85501095, 1211.22286041, 1360.85072524, 1335.82493799,\n",
       "       1334.50779129, 1341.35695412, 1181.45534505, 1267.8601684 ,\n",
       "       1361.64101326, 1339.77637808, 1197.26110542, 1222.81375135,\n",
       "       1249.1566853 , 1354.79185043, 1421.43947333, 1199.63196948,\n",
       "       1290.25166226, 1352.68441572, 1300.26197716, 1321.07289498,\n",
       "       1240.4635171 , 1244.94181587, 1288.14422754, 1241.78066379,\n",
       "       1246.25896256, 1335.56150865, 1346.62554091, 1289.98823292,\n",
       "       1278.66077132, 1286.56365151, 1387.72051787, 1220.96974597,\n",
       "       1357.16271449, 1492.56539499, 1298.94483046, 1253.89841341,\n",
       "       1266.27959237, 1272.33846717, 1216.75487654, 1247.31267992,\n",
       "       1271.02132048, 1352.94784506, 1409.32172371, 1362.69473062,\n",
       "       1220.96974597, 1431.9766469 , 1507.84429668, 1277.60705396,\n",
       "       1392.72567532, 1321.863183  , 1218.86231126, 1148.52667761,\n",
       "       1393.252534  , 1269.1773151 , 1291.30537962, 1256.00584813,\n",
       "       1391.40852862, 1291.56880896, 1078.19104397, 1230.71663154,\n",
       "       1324.23404705, 1195.41710004, 1143.25809082, 1160.90785657,\n",
       "       1266.54302171, 1255.47898945, 1161.96157393, 1231.24349021,\n",
       "       1353.73813308, 1352.68441572, 1221.49660465, 1186.19707316,\n",
       "       1234.66807163, 1139.57008007, 1224.65775673, 1200.94911617,\n",
       "       1294.99339037, 1231.50691955, 1340.5666661 , 1156.95641648,\n",
       "       1189.35822524, 1302.10598254, 1380.87135504, 1186.72393184,\n",
       "       1134.56492262, 1321.07289498, 1260.22071756, 1192.78280665,\n",
       "       1246.78582124, 1137.46264536, 1181.19191571, 1210.16914305,\n",
       "       1327.39519913, 1264.96244567, 1154.05869374, 1248.36639728,\n",
       "       1266.27959237, 1306.58428131, 1277.8704833 , 1169.33759543,\n",
       "       1276.28990727, 1263.64529897, 1373.75876288, 1256.26927747,\n",
       "       1297.36425443, 1157.48327516, 1380.6079257 , 1163.54214997,\n",
       "       1242.04409313, 1284.98307547, 1282.34878207, 1134.03806394,\n",
       "       1219.65259928, 1301.05226518, 1159.32728053, 1209.1154257 ,\n",
       "       1115.86143952, 1296.83739575, 1262.32815227, 1056.06297945,\n",
       "       1131.14034121, 1206.4811323 , 1245.73210389, 1194.09995335,\n",
       "       1210.69600173, 1175.92332892, 1188.83136656, 1340.03980742,\n",
       "       1133.51120526, 1298.15454244, 1221.76003399, 1377.97363231,\n",
       "       1199.63196948, 1042.10122446, 1099.26539113, 1268.65045642,\n",
       "       1099.79224981, 1112.96371678, 1270.23103246, 1156.95641648,\n",
       "       1180.66505703, 1160.64442723, 1186.4605025 , 1218.33545258,\n",
       "       1216.22801786, 1080.03504935, 1310.79915074, 1242.04409313,\n",
       "       1286.30022217, 1304.47684659, 1190.67537193, 1433.03036426,\n",
       "       1309.48200404, 1173.28903553, 1296.31053707, 1301.31569452,\n",
       "       1172.23531817, 1219.65259928, 1177.24047562, 1208.58856702,\n",
       "       1218.86231126])"
      ]
     },
     "execution_count": 21,
     "metadata": {},
     "output_type": "execute_result"
    }
   ],
   "source": [
    "y_predicted = lg.predict(X)\n",
    "y_predicted"
   ]
  },
  {
   "cell_type": "code",
   "execution_count": 22,
   "metadata": {},
   "outputs": [
    {
     "data": {
      "text/plain": [
       "Text(0, 0.5, 'Brain Weight(grams)')"
      ]
     },
     "execution_count": 22,
     "metadata": {},
     "output_type": "execute_result"
    },
    {
     "data": {
      "image/png": "[encoded data removed]",
      "text/plain": [
       "<Figure size 432x288 with 1 Axes>"
      ]
     },
     "metadata": {
      "needs_background": "light"
     },
     "output_type": "display_data"
    }
   ],
   "source": [
    "plt.scatter(X, y, color = 'red')\n",
    "plt.plot(X, y_predicted, color='blue')\n",
    "plt.xlabel('Head Size (cm^3)')\n",
    "plt.ylabel('Brain Weight(grams)')"
   ]
  },
  {
   "cell_type": "code",
   "execution_count": 23,
   "metadata": {},
   "outputs": [
    {
     "name": "stdout",
     "output_type": "stream",
     "text": [
      "Mean squared Error is: 5201.384028\n",
      "r2: 0.639312\n"
     ]
    }
   ],
   "source": [
    "print(\"Mean squared Error is: %4f\" % mean_squared_error(y, y_predicted))\n",
    "print(\"r2: %4f\" % r2_score(y, y_predicted))"
   ]
  },
  {
   "cell_type": "code",
   "execution_count": null,
   "metadata": {},
   "outputs": [],
   "source": []
  }
 ],
 "metadata": {
  "kernelspec": {
   "display_name": "Python 3",
   "language": "python",
   "name": "python3"
  },
  "language_info": {
   "codemirror_mode": {
    "name": "ipython",
    "version": 3
   },
   "file_extension": ".py",
   "mimetype": "text/x-python",
   "name": "python",
   "nbconvert_exporter": "python",
   "pygments_lexer": "ipython3",
   "version": "3.8.5"
  }
 },
 "nbformat": 4,
 "nbformat_minor": 4
}
